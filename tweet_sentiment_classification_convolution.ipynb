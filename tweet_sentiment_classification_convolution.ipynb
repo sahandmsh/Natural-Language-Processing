{
 "cells": [
  {
   "cell_type": "markdown",
   "id": "655abc9e-cc1b-4035-9587-5ab049cea880",
   "metadata": {},
   "source": [
    "Import libraries"
   ]
  },
  {
   "cell_type": "code",
   "execution_count": 276,
   "id": "c0483182-a2ac-4df8-9cff-28fa76848ffc",
   "metadata": {},
   "outputs": [],
   "source": [
    "import matplotlib.pyplot as plt\n",
    "import pandas as pd\n",
    "import torch\n",
    "import torch.nn as nn\n",
    "import torch.optim as optim\n",
    "from sklearn.model_selection import train_test_split\n",
    "from torch.nn.utils.rnn import pad_sequence\n",
    "from torchmetrics.classification import MulticlassAccuracy\n",
    "from torchtext.data.utils import get_tokenizer\n",
    "from torchtext.vocab import GloVe"
   ]
  },
  {
   "cell_type": "markdown",
   "id": "c5796885-3a9b-4e76-bde0-1c7ec9619f46",
   "metadata": {},
   "source": [
    "Create tokenizer object (to convert tweets to tokens). Get the pre-trained word embeddings from GloVe"
   ]
  },
  {
   "cell_type": "code",
   "execution_count": 264,
   "id": "48e0d690-cdc3-44d2-b93b-89a21dd12a76",
   "metadata": {},
   "outputs": [],
   "source": [
    "tokenizer = get_tokenizer('basic_english')\n",
    "glove = GloVe(name='6B', dim=100)"
   ]
  },
  {
   "cell_type": "markdown",
   "id": "f010fcaa-b103-42fe-91d8-c619679bff36",
   "metadata": {},
   "source": [
    "Function to clean out tweets dataset"
   ]
  },
  {
   "cell_type": "code",
   "execution_count": 265,
   "id": "d32f90e3-81cf-4a59-9f06-33a6f7b8742f",
   "metadata": {},
   "outputs": [],
   "source": [
    "def clean_out_data(original_df, desired_columns_list):\n",
    "    \"\"\" Reduces data columns to desired column list\n",
    "        Modifies polarity values (negative sentiment: 0, positive sentiment: 1)\n",
    "    Args:\n",
    "        original_df: pandas dataframe\n",
    "        desired_columns_list: list containing the desired columns to keep\n",
    "    \"\"\"\n",
    "    df = original_df.copy()\n",
    "    df = df[desired_columns_list]\n",
    "    df.loc[:, 'polarity'] = df['polarity'].replace({0: 0, 4: 1})\n",
    "    return df"
   ]
  },
  {
   "cell_type": "markdown",
   "id": "387bd95b-f9af-4d1f-9b7d-8e9eb8990983",
   "metadata": {},
   "source": [
    "Load the dataset. Create train (70%), validation (15%), and test (15%) datasets\n",
    "\n",
    "Dataset is a part of Stanford Sentiment140 dataset (http://cs.stanford.edu/people/alecmgo/trainingandtestdata.zip)"
   ]
  },
  {
   "cell_type": "code",
   "execution_count": 266,
   "id": "67c6557d",
   "metadata": {
    "scrolled": true
   },
   "outputs": [],
   "source": [
    "# Load the dataset and split into train validation test\n",
    "dataset_df = pd.read_csv(\"trainingandtestdata/training.1600000.processed.noemoticon.csv\", encoding='latin1', header=None)\n",
    "dataset_df = dataset_df.sample(n=20000)\n",
    "dataset_df.columns = ['polarity', 'id', 'date', 'query', 'user', 'tweet']\n",
    "\n",
    "train_df, validation_test_df = train_test_split(dataset_df, test_size=0.3)\n",
    "validation_df, test_df = train_test_split(validation_test_df, test_size=0.5)\n",
    "\n",
    "train_df = clean_out_data(train_df, ['tweet', 'polarity'])\n",
    "validation_df = clean_out_data(validation_df, ['tweet', 'polarity'])\n",
    "test_df = clean_out_data(test_df, ['tweet', 'polarity'])"
   ]
  },
  {
   "cell_type": "markdown",
   "id": "a414cb76-af47-44a7-933c-2a874dd9e65a",
   "metadata": {},
   "source": []
  },
  {
   "cell_type": "code",
   "execution_count": 267,
   "id": "50c3e57c-9899-4414-a2fa-327723ad85d1",
   "metadata": {},
   "outputs": [],
   "source": [
    "def process_tweets(df):\n",
    "    \"\"\" Tokenizes tweets then stack them as tensors\n",
    "    Args:\n",
    "        df: pandas dataframe\n",
    "    Returns:\n",
    "        tuple (list, tensor): a list of stacked word embeddings, corresponding labels tensor\n",
    "    \"\"\"\n",
    "    tweets_list, labels_list = [], []\n",
    "    for idx, row in df.iterrows():\n",
    "        tweet, label = row['tweet'], row['polarity']\n",
    "        tokens = tokenizer(tweet)\n",
    "        tweet_embeddings = [glove[word] for word in tokens if word in glove.stoi]\n",
    "        if tweet_embeddings and label in [0, 1]:\n",
    "            tweets_list.append(torch.stack(tweet_embeddings))\n",
    "            labels_list.append(label)\n",
    "    return tweets_list, torch.tensor(labels_list, dtype=torch.int64)"
   ]
  },
  {
   "cell_type": "markdown",
   "id": "5c59670f-91d0-4c44-8b6c-3c7e4b17a271",
   "metadata": {},
   "source": [
    "Process tweets by Tokenizing them each tweet then stacking them as tensors\n",
    "\n",
    "Pad the processed tweets and adding zeros so that all tensors in each data group (train, test, validation) are of the same size."
   ]
  },
  {
   "cell_type": "code",
   "execution_count": 268,
   "id": "c867ca1e-fe99-438a-9699-d859f051bca7",
   "metadata": {},
   "outputs": [],
   "source": [
    "train_data, train_data_labels = process_tweets(train_df)\n",
    "validation_data, validation_data_labels = process_tweets(validation_df)\n",
    "test_data, test_data_labels = process_tweets(test_df)\n",
    "\n",
    "# Padding train, test, validation datasets by adding zeros\n",
    "train_data = pad_sequence(train_data, batch_first = True, padding_value= 0)\n",
    "validation_data = pad_sequence(validation_data, batch_first = True, padding_value= 0)\n",
    "test_data = pad_sequence(test_data, batch_first = True, padding_value= 0)"
   ]
  },
  {
   "cell_type": "code",
   "execution_count": 269,
   "id": "0753c9c4-62fd-46dc-b206-80e88c144f61",
   "metadata": {},
   "outputs": [],
   "source": [
    "class Tweet_SentimentClassifier(nn.Module):\n",
    "    \"\"\" Class with the 1D convolutional NN structure, and includes train and predict methods\n",
    "    \"\"\"\n",
    "    def __init__(self, input_size, hidden_size, output_size, kernel_size=5):\n",
    "        nn.Module.__init__(self)\n",
    "        self.conv = nn.Conv1d(in_channels=input_size, out_channels=hidden_size, kernel_size=kernel_size, padding=kernel_size//2)\n",
    "        self.linear = nn.Linear(input_size, output_size)\n",
    "        self.dropout = nn.Dropout(0.5)\n",
    "        self.relu = nn.ReLU()  # ReLU activation function\n",
    "\n",
    "    \n",
    "    def forward(self, input):\n",
    "        \"\"\" NN forward pass\n",
    "        Args:\n",
    "            input: tensor of shape (batch_size, input_size)\n",
    "        Returns:\n",
    "            output: tensor of shape (batch_size, output_size)\n",
    "        \"\"\"\n",
    "        input = input.permute(0, 2, 1)  # (batch_size, embedding_size, seq_len)\n",
    "        conv_out = self.conv(input)\n",
    "        conv_out = self.relu(conv_out)\n",
    "        pooled_out, _ = torch.max(conv_out, dim=2)  # max pooling\n",
    "        pooled_out = self.dropout(pooled_out) # dropout to avoid overfitting\n",
    "        output = self.linear(pooled_out)\n",
    "        return output\n",
    "\n",
    "\n",
    "    def _moving_average(self,losses, window):\n",
    "        \"\"\" Compute a simple moving average over the loss values \"\"\"\n",
    "        return np.convolve(losses, np.ones(window)/window, mode='valid')\n",
    "\n",
    "        \n",
    "    def train_model(self, train_input_tensor, train_labels,validation_input_tensor, validation_labels, loss_function, optimizer, epochs, validation_loss_smoothing_window, epochs_without_improvement_threshold):\n",
    "        \"\"\" Trains the model\n",
    "        Args:\n",
    "            input_tensors: input tensor of shape (batch_size, input_size)\n",
    "            labels: label tensor of shape (batch_size, output_size)\n",
    "            validation_input_tensor: validation data tensor of shape (batch_size, input_size)\n",
    "            validation_labels: validation label tensor of shape (batch_size, output_size)\n",
    "            loss_function: loss function (e.g., cross entropy loss)\n",
    "            optimizer: the optimizer (e.g., Adam)\n",
    "            epochs: number of epochs\n",
    "            validation_loss_smoothing_window: validation loss smoothing window\n",
    "            epochs_without_improvement_threshold: Maximum allowed consequent epochs without validation loss improvement\n",
    "        Returns:\n",
    "            None\n",
    "        \"\"\"\n",
    "        # Line objects for train and validation loss\n",
    "        train_line, = ax.plot([], [], label='Train Loss', color='b')\n",
    "        val_line, = ax.plot([], [], label='Validation Loss', color='r')\n",
    "        ax.legend()\n",
    "\n",
    "        \n",
    "        best_validation_loss = float('inf')\n",
    "        epochs_without_improvement = 0\n",
    "        train_loss_list = []\n",
    "        validation_loss_list = []\n",
    "        for epoch in range(epochs):\n",
    "            self.train()\n",
    "            output = self(train_input_tensor)\n",
    "            loss = loss_function(output, train_labels)\n",
    "            train_loss_list.append(loss.item())\n",
    "            optimizer.zero_grad()\n",
    "            loss.backward()\n",
    "            optimizer.step()\n",
    "\n",
    "            _, validation_loss = self.predict(validation_input_tensor, validation_labels)\n",
    "            validation_loss_list.append(validation_loss.item())\n",
    "\n",
    "            # Monitoring smoothed validation loss and potentially stop the training to avoid overfitting\n",
    "            smoothed_validation_loss = self._moving_average(validation_loss_list, validation_loss_smoothing_window)\n",
    "            if epoch<validation_loss_smoothing_window:\n",
    "                pass\n",
    "            elif smoothed_validation_loss[-1] < best_validation_loss:\n",
    "                best_validation_loss = smoothed_validation_loss[-1]\n",
    "                epochs_without_improvement = 0  # Reset the counter when validation loss improves\n",
    "            else:\n",
    "                epochs_without_improvement += 1\n",
    "            \n",
    "            # Stop if smoothed validation loss starts increasing while training loss is still decreasing\n",
    "            if epochs_without_improvement > epochs_without_improvement_threshold:\n",
    "                print(f\"Stopping at epoch {epoch + 1} due to no improvement in smoothed validation loss.\")\n",
    "                break\n",
    "\n",
    "            if (epoch+1)%10 == 0:\n",
    "                print(f\"Epoch [{epoch+1}/{epochs}], Training Loss: {loss.item():.6f}, Validation Loss: {validation_loss.item():.6f}\")\n",
    "        \n",
    "        # Plot the train and validation loss\n",
    "        plt.plot(range(1, len(train_loss_list) + 1), train_loss_list, color='red', label=\"train loss\")\n",
    "        plt.plot(range(1, len(validation_loss_list) + 1), validation_loss_list, color='blue', label=\"validation loss\")\n",
    "        plt.xlabel(\"epoch\")\n",
    "        plt.ylabel(\"loss\")\n",
    "        plt.legend()\n",
    "        plt.show()\n",
    "\n",
    "    \n",
    "    def predict(self, input_tensor, actual_labels):\n",
    "        \"\"\" Predicts labels\n",
    "        Args:\n",
    "            input_tensor: input tensor of shape (batch_size, input_size)\n",
    "        Returns:\n",
    "            tuple(predicted_labels, loss): predicted labels of shape (batch_size, output_size), loss\n",
    "        \"\"\"\n",
    "        self.eval()\n",
    "        with torch.no_grad():\n",
    "            predictions = self(input_tensor).squeeze()\n",
    "            loss = loss_function(predictions, actual_labels)\n",
    "            predicted_labels = torch.argmax(predictions, dim = 1)\n",
    "        return predicted_labels, loss"
   ]
  },
  {
   "cell_type": "markdown",
   "id": "d1e78502-78ca-447f-bec8-cb79aea52d4e",
   "metadata": {},
   "source": [
    "Define the tweet classifier object, loss function, and optimizer"
   ]
  },
  {
   "cell_type": "code",
   "execution_count": 273,
   "id": "7db3c860-e658-4621-a998-3063050ff12f",
   "metadata": {},
   "outputs": [],
   "source": [
    "tweet_classifier = Tweet_SentimentClassifier(input_size = 100, hidden_size = 100, output_size = 2)\n",
    "loss_function = nn.CrossEntropyLoss()\n",
    "optimizer = optim.Adam(tweet_classifier.parameters(), lr = 0.001, weight_decay = 0.001)"
   ]
  },
  {
   "cell_type": "markdown",
   "id": "0e282790-ca46-4699-95f9-6f817454d8c4",
   "metadata": {},
   "source": [
    "Train the model and track the train loss and validation loss to avoid overfitting"
   ]
  },
  {
   "cell_type": "code",
   "execution_count": 274,
   "id": "aceb5a64-b34c-43f9-89c2-67aaa5a03b53",
   "metadata": {},
   "outputs": [
    {
     "name": "stdout",
     "output_type": "stream",
     "text": [
      "Epoch [10/500], Training Loss: 0.666011, Validation Loss: 0.655122\n",
      "Epoch [20/500], Training Loss: 0.620021, Validation Loss: 0.621124\n",
      "Epoch [30/500], Training Loss: 0.590449, Validation Loss: 0.591847\n",
      "Epoch [40/500], Training Loss: 0.559723, Validation Loss: 0.568076\n",
      "Epoch [50/500], Training Loss: 0.535091, Validation Loss: 0.550279\n",
      "Epoch [60/500], Training Loss: 0.514181, Validation Loss: 0.537924\n",
      "Epoch [70/500], Training Loss: 0.493877, Validation Loss: 0.528112\n",
      "Epoch [80/500], Training Loss: 0.477881, Validation Loss: 0.521075\n",
      "Epoch [90/500], Training Loss: 0.462070, Validation Loss: 0.515595\n",
      "Epoch [100/500], Training Loss: 0.447814, Validation Loss: 0.511545\n",
      "Epoch [110/500], Training Loss: 0.434128, Validation Loss: 0.508603\n",
      "Epoch [120/500], Training Loss: 0.416183, Validation Loss: 0.505922\n",
      "Epoch [130/500], Training Loss: 0.400803, Validation Loss: 0.505074\n",
      "Epoch [140/500], Training Loss: 0.390168, Validation Loss: 0.503191\n",
      "Epoch [150/500], Training Loss: 0.379966, Validation Loss: 0.503596\n",
      "Epoch [160/500], Training Loss: 0.366351, Validation Loss: 0.503184\n",
      "Stopping at epoch 163 due to no improvement in smoothed validation loss.\n"
     ]
    },
    {
     "data": {
      "image/png": "[encoded data removed]",
      "text/plain": [
       "<Figure size 640x480 with 1 Axes>"
      ]
     },
     "metadata": {},
     "output_type": "display_data"
    }
   ],
   "source": [
    "tweet_classifier.train_model(train_data, train_data_labels, validation_data, validation_data_labels, loss_function, optimizer, 500, 10, 10)"
   ]
  },
  {
   "cell_type": "markdown",
   "id": "fe90f184-8f76-4134-bba9-9b4653991437",
   "metadata": {},
   "source": [
    "Evaluate the trained model using test data by calculating accuracy"
   ]
  },
  {
   "cell_type": "code",
   "execution_count": 280,
   "id": "e1da55e7-dee9-4983-90aa-e3c14bcccf12",
   "metadata": {},
   "outputs": [
    {
     "name": "stdout",
     "output_type": "stream",
     "text": [
      "Evaluating test data:\n",
      "Accuracy: 0.7519570589065552\n",
      "Checking model accuracy on train data (overfitting avoided by early stop):\n",
      "Accuracy: 0.8830654621124268\n"
     ]
    }
   ],
   "source": [
    "calculate_accuracy = MulticlassAccuracy(num_classes = 2)\n",
    "print(\"Evaluating test data:\")\n",
    "predicted_test_labels,_ = tweet_classifier.predict(test_data, test_data_labels)\n",
    "print(f\"Accuracy: {calculate_accuracy(predicted_test_labels, test_data_labels)}\")\n",
    "\n",
    "print(\"Checking model accuracy on train data (overfitting avoided by early stop):\")\n",
    "predicted_train_labels,_ = tweet_classifier.predict(train_data, train_data_labels)\n",
    "print(f\"Accuracy: {calculate_accuracy(predicted_train_labels, train_data_labels)}\")"
   ]
  }
 ],
 "metadata": {
  "kernelspec": {
   "display_name": "Python 3 (ipykernel)",
   "language": "python",
   "name": "python3"
  },
  "language_info": {
   "codemirror_mode": {
    "name": "ipython",
    "version": 3
   },
   "file_extension": ".py",
   "mimetype": "text/x-python",
   "name": "python",
   "nbconvert_exporter": "python",
   "pygments_lexer": "ipython3",
   "version": "3.11.0"
  }
 },
 "nbformat": 4,
 "nbformat_minor": 5
}
